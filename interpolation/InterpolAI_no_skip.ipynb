{
 "cells": [
  {
   "cell_type": "code",
   "execution_count": null,
   "outputs": [],
   "source": [
    "from interpolation_functions_no_skip import *"
   ],
   "metadata": {
    "collapsed": false,
    "is_executing": true
   }
  },
  {
   "cell_type": "code",
   "execution_count": 9,
   "outputs": [
    {
     "name": "stdout",
     "output_type": "stream",
     "text": [
      "Num GPUs Available:  1\n"
     ]
    }
   ],
   "source": [
    "print(\"Num GPUs Available: \", len(tf.config.list_physical_devices('GPU')))"
   ],
   "metadata": {
    "collapsed": false,
    "ExecuteTime": {
     "end_time": "2025-04-01T16:25:35.782324100Z",
     "start_time": "2025-04-01T16:25:35.769312300Z"
    }
   }
  },
  {
   "cell_type": "code",
   "execution_count": 13,
   "outputs": [],
   "source": [
    "#Load pretrained model\n",
    "model_path = r\"C:\\Users\\saura\\PycharmProjects\\InterpolAI-3D\\model\"\n",
    "model = tf.saved_model.load(model_path)"
   ],
   "metadata": {
    "collapsed": false,
    "ExecuteTime": {
     "end_time": "2025-04-01T16:26:14.238435800Z",
     "start_time": "2025-04-01T16:26:11.921333100Z"
    }
   }
  },
  {
   "cell_type": "code",
   "execution_count": 11,
   "outputs": [],
   "source": [
    "# USER INPUTS: size to tile whole slide images to, slides to generate between inputs, path to folder of images\n",
    "TILE_SIZE = (2048, 2048)\n",
    "skips = [1] # [2 3 4] interpolate 2, 3, and 4 images in between input images\n",
    "pth=r\"\\\\10.99.68.178\\Saurabh\\manuscript_figs\\data\\HE_roi1\\authentic\\test\""
   ],
   "metadata": {
    "collapsed": false,
    "ExecuteTime": {
     "end_time": "2025-04-01T16:25:38.655569300Z",
     "start_time": "2025-04-01T16:25:38.641553500Z"
    }
   }
  },
  {
   "cell_type": "code",
   "execution_count": 12,
   "outputs": [
    {
     "name": "stdout",
     "output_type": "stream",
     "text": [
      "Interpolating int 1:\n",
      "already interpolated from input images TC_001_0001.tif and TC_001_0003.tif\n",
      "already interpolated from input images TC_001_0003.tif and TC_001_0006.tif\n",
      "already interpolated from input images TC_001_0006.tif and TC_001_0007.tif\n",
      "already interpolated from input images TC_001_0007.tif and TC_001_0009.tif\n",
      "already interpolated from input images TC_001_0009.tif and TC_001_0010.tif\n"
     ]
    }
   ],
   "source": [
    "interpolate_from_image_stack_no_skip(pth, skips, TILE_SIZE, model)"
   ],
   "metadata": {
    "collapsed": false,
    "ExecuteTime": {
     "end_time": "2025-04-01T16:25:39.560602500Z",
     "start_time": "2025-04-01T16:25:39.519973100Z"
    }
   }
  }
 ],
 "metadata": {
  "kernelspec": {
   "display_name": "Python 3",
   "language": "python",
   "name": "python3"
  },
  "language_info": {
   "codemirror_mode": {
    "name": "ipython",
    "version": 2
   },
   "file_extension": ".py",
   "mimetype": "text/x-python",
   "name": "python",
   "nbconvert_exporter": "python",
   "pygments_lexer": "ipython2",
   "version": "2.7.6"
  }
 },
 "nbformat": 4,
 "nbformat_minor": 0
}
