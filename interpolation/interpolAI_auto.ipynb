{
 "cells": [
  {
   "cell_type": "code",
   "metadata": {
    "collapsed": true,
    "ExecuteTime": {
     "end_time": "2025-06-03T20:11:11.630904Z",
     "start_time": "2025-06-03T20:11:11.615185Z"
    }
   },
   "source": [
    "from interpolation_function_auto import *"
   ],
   "outputs": [],
   "execution_count": 6
  },
  {
   "cell_type": "code",
   "source": "print(\"Num GPUs Available: \", len(tf.config.list_physical_devices('GPU')))",
   "metadata": {
    "collapsed": false,
    "ExecuteTime": {
     "end_time": "2025-06-03T20:11:12.280977Z",
     "start_time": "2025-06-03T20:11:12.265088Z"
    }
   },
   "outputs": [
    {
     "name": "stdout",
     "output_type": "stream",
     "text": [
      "Num GPUs Available:  1\n"
     ]
    }
   ],
   "execution_count": 7
  },
  {
   "cell_type": "code",
   "source": [
    "# model = hub.load(\"https://tfhub.dev/google/film/1\")\n",
    "model_path = \"model\"\n",
    "model = tf.saved_model.load(model_path)"
   ],
   "metadata": {
    "collapsed": false,
    "ExecuteTime": {
     "end_time": "2025-06-03T20:11:25.057380Z",
     "start_time": "2025-06-03T20:11:12.729234Z"
    }
   },
   "outputs": [],
   "execution_count": 8
  },
  {
   "cell_type": "code",
   "source": [
    "# USER INPUTS: size to tile whole slide images to, path to folder of images\n",
    "# TILE_SIZE = (2048, 2048)\n",
    "TILE_SIZE = (1024, 1024)\n",
    "pth=r\"\\\\10.99.68.178\\Saurabh\\manuscript_figs\\data\\HE_roi1\\authentic\\test\""
   ],
   "metadata": {
    "collapsed": false,
    "ExecuteTime": {
     "end_time": "2025-06-03T20:11:25.073046Z",
     "start_time": "2025-06-03T20:11:25.057380Z"
    }
   },
   "outputs": [],
   "execution_count": 9
  },
  {
   "cell_type": "code",
   "source": [
    "image_files = [f for f in os.listdir(pth) if f.endswith(('tif', 'png', 'jpg'))]\n",
    "skip_images = list_skip_images(pth)\n",
    "interpolate_from_image_list(pth, skip_images, TILE_SIZE, model, image_files)"
   ],
   "metadata": {
    "collapsed": false,
    "ExecuteTime": {
     "end_time": "2025-06-03T20:11:54.197832Z",
     "start_time": "2025-06-03T20:11:29.495215Z"
    }
   },
   "outputs": [
    {
     "name": "stdout",
     "output_type": "stream",
     "text": [
      "Interpolating for skip 1:\n",
      "Stitching needed\n"
     ]
    },
    {
     "name": "stderr",
     "output_type": "stream",
     "text": [
      "Interpolating TC_001_0001.tif: 100%|██████████| 1/1 [00:07<00:00,  7.35s/frame]\n"
     ]
    },
    {
     "name": "stdout",
     "output_type": "stream",
     "text": [
      "Stitching needed\n"
     ]
    },
    {
     "name": "stderr",
     "output_type": "stream",
     "text": [
      "Interpolating TC_001_0007.tif: 100%|██████████| 1/1 [00:04<00:00,  4.79s/frame]\n"
     ]
    },
    {
     "name": "stdout",
     "output_type": "stream",
     "text": [
      "Interpolating for skip 2:\n",
      "Stitching needed\n"
     ]
    },
    {
     "name": "stderr",
     "output_type": "stream",
     "text": [
      "Interpolating TC_001_0003.tif: 100%|██████████| 2/2 [00:10<00:00,  5.03s/frame]\n"
     ]
    }
   ],
   "execution_count": 10
  },
  {
   "metadata": {},
   "cell_type": "code",
   "outputs": [],
   "execution_count": null,
   "source": ""
  }
 ],
 "metadata": {
  "kernelspec": {
   "display_name": "Python 3",
   "language": "python",
   "name": "python3"
  },
  "language_info": {
   "codemirror_mode": {
    "name": "ipython",
    "version": 2
   },
   "file_extension": ".py",
   "mimetype": "text/x-python",
   "name": "python",
   "nbconvert_exporter": "python",
   "pygments_lexer": "ipython2",
   "version": "2.7.6"
  }
 },
 "nbformat": 4,
 "nbformat_minor": 0
}
