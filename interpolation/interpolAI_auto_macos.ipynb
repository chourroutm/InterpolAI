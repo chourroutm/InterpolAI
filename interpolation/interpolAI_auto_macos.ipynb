{
 "cells": [
  {
   "cell_type": "code",
   "metadata": {
    "collapsed": true,
    "ExecuteTime": {
     "end_time": "2025-04-02T17:27:02.758867Z",
     "start_time": "2025-04-02T17:27:01.017037Z"
    }
   },
   "source": [
    "from interpolation_function_auto import *"
   ],
   "outputs": [],
   "execution_count": 1
  },
  {
   "cell_type": "code",
   "metadata": {
    "collapsed": false,
    "ExecuteTime": {
     "end_time": "2025-04-02T17:27:02.764156Z",
     "start_time": "2025-04-02T17:27:02.762332Z"
    }
   },
   "source": [
    "print(\"Num GPUs Available: \", len(tf.config.list_physical_devices('GPU')))\n",
    "#Load pretrained model\n"
   ],
   "outputs": [
    {
     "name": "stdout",
     "output_type": "stream",
     "text": [
      "Num GPUs Available:  1\n"
     ]
    }
   ],
   "execution_count": 2
  },
  {
   "cell_type": "code",
   "metadata": {
    "collapsed": false,
    "ExecuteTime": {
     "end_time": "2025-04-02T17:27:11.243864Z",
     "start_time": "2025-04-02T17:27:04.330736Z"
    }
   },
   "source": [
    "# model = hub.load(\"https://tfhub.dev/google/film/1\")\n",
    "model_path = \"model\"\n",
    "model = tf.saved_model.load(model_path)"
   ],
   "outputs": [
    {
     "name": "stdout",
     "output_type": "stream",
     "text": [
      "Metal device set to: Apple M4 Pro\n"
     ]
    },
    {
     "name": "stderr",
     "output_type": "stream",
     "text": [
      "2025-04-02 13:27:05.526377: I tensorflow/core/common_runtime/pluggable_device/pluggable_device_factory.cc:306] Could not identify NUMA node of platform GPU ID 0, defaulting to 0. Your kernel may not have been built with NUMA support.\n",
      "2025-04-02 13:27:05.526663: I tensorflow/core/common_runtime/pluggable_device/pluggable_device_factory.cc:272] Created TensorFlow device (/job:localhost/replica:0/task:0/device:GPU:0 with 0 MB memory) -> physical PluggableDevice (device: 0, name: METAL, pci bus id: <undefined>)\n"
     ]
    }
   ],
   "execution_count": 3
  },
  {
   "cell_type": "code",
   "metadata": {
    "ExecuteTime": {
     "end_time": "2025-04-02T17:27:11.249659Z",
     "start_time": "2025-04-02T17:27:11.247850Z"
    }
   },
   "source": [
    "import tensorflow as tf\n",
    "print(tf.__version__)  #"
   ],
   "outputs": [
    {
     "name": "stdout",
     "output_type": "stream",
     "text": [
      "2.10.0\n"
     ]
    }
   ],
   "execution_count": 4
  },
  {
   "cell_type": "code",
   "metadata": {
    "collapsed": false,
    "ExecuteTime": {
     "end_time": "2025-04-02T17:32:10.642997Z",
     "start_time": "2025-04-02T17:32:10.638063Z"
    }
   },
   "source": [
    "# USER INPUTS: size to tile whole slide images to, path to folder of images\n",
    "# TILE_SIZE = (2048, 2048) # For dedicated GPU such as 3090 or 4090\n",
    "TILE_SIZE = (512, 512) # For smaller or integrated GPUs such as M4 pro GPU\n",
    "pth=r\"/Volumes/Saurabh/manuscript_figs/data/HE_WSI/authentic/test\"\n",
    "# pth=r\"/Volumes/Saurabh/manuscript_figs/data/HE_roi1/authentic/test\"\n",
    "# pth=\"/Volumes/Saurabh/manuscript_figs/data/MRI/authentic/authentic/rgb/test\""
   ],
   "outputs": [],
   "execution_count": 14
  },
  {
   "cell_type": "code",
   "metadata": {
    "collapsed": false,
    "ExecuteTime": {
     "end_time": "2025-04-02T17:41:27.054162Z",
     "start_time": "2025-04-02T17:32:11.212058Z"
    }
   },
   "source": [
    "image_files = [f for f in os.listdir(pth) if f.endswith(('tif', 'png', 'jpg'))]\n",
    "skip_images = list_skip_images(pth)\n",
    "interpolate_from_image_list(pth, skip_images, TILE_SIZE, model, image_files)"
   ],
   "outputs": [
    {
     "name": "stdout",
     "output_type": "stream",
     "text": [
      "Interpolating for skip 1:\n",
      "Stitching needed\n"
     ]
    },
    {
     "name": "stderr",
     "output_type": "stream",
     "text": [
      "Interpolating TC_001_0053.tif: 100%|██████████| 1/1 [02:54<00:00, 174.24s/frame]\n"
     ]
    },
    {
     "name": "stdout",
     "output_type": "stream",
     "text": [
      "Interpolating for skip 2:\n",
      "Stitching needed\n"
     ]
    },
    {
     "name": "stderr",
     "output_type": "stream",
     "text": [
      "Interpolating TC_001_0055.tif: 100%|██████████| 2/2 [05:47<00:00, 173.73s/frame]\n"
     ]
    }
   ],
   "execution_count": 15
  },
  {
   "metadata": {},
   "cell_type": "code",
   "outputs": [],
   "execution_count": null,
   "source": ""
  }
 ],
 "metadata": {
  "kernelspec": {
   "display_name": "InterpolAI",
   "language": "python",
   "name": "python3"
  },
  "language_info": {
   "codemirror_mode": {
    "name": "ipython",
    "version": 3
   },
   "file_extension": ".py",
   "mimetype": "text/x-python",
   "name": "python",
   "nbconvert_exporter": "python",
   "pygments_lexer": "ipython3",
   "version": "3.9.21"
  }
 },
 "nbformat": 4,
 "nbformat_minor": 0
}
