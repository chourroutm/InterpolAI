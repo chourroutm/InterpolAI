{
 "cells": [
  {
   "cell_type": "code",
   "source": [
    "from interpolation_functions_no_skip import *"
   ],
   "metadata": {
    "collapsed": false,
    "is_executing": true,
    "ExecuteTime": {
     "end_time": "2025-06-03T20:36:11.496911Z",
     "start_time": "2025-06-03T20:36:09.888490Z"
    }
   },
   "outputs": [],
   "execution_count": 1
  },
  {
   "cell_type": "code",
   "execution_count": 9,
   "outputs": [
    {
     "name": "stdout",
     "output_type": "stream",
     "text": [
      "Num GPUs Available:  1\n"
     ]
    }
   ],
   "source": [
    "print(\"Num GPUs Available: \", len(tf.config.list_physical_devices('GPU')))"
   ],
   "metadata": {
    "collapsed": false,
    "ExecuteTime": {
     "end_time": "2025-04-01T16:25:35.782324100Z",
     "start_time": "2025-04-01T16:25:35.769312300Z"
    }
   }
  },
  {
   "cell_type": "code",
   "source": [
    "# model = hub.load(\"https://tfhub.dev/google/film/1\")\n",
    "model_path = \"model\"\n",
    "model = tf.saved_model.load(model_path)"
   ],
   "metadata": {
    "collapsed": false,
    "ExecuteTime": {
     "end_time": "2025-06-03T20:36:47.863147Z",
     "start_time": "2025-06-03T20:36:44.965913Z"
    }
   },
   "outputs": [],
   "execution_count": 2
  },
  {
   "cell_type": "code",
   "source": [
    "# USER INPUTS: size to tile whole slide images to, slides to generate between inputs, path to folder of images\n",
    "TILE_SIZE = (512, 512)\n",
    "skips = [1] # [2 3 4] interpolate 2, 3, and 4 images in between input images\n",
    "pth=r\"\\\\10.99.68.178\\Saurabh\\manuscript_figs\\data\\HE_roi1\\authentic\\test\""
   ],
   "metadata": {
    "collapsed": false,
    "ExecuteTime": {
     "end_time": "2025-06-03T20:36:47.878988Z",
     "start_time": "2025-06-03T20:36:47.863147Z"
    }
   },
   "outputs": [],
   "execution_count": 3
  },
  {
   "cell_type": "code",
   "source": [
    "interpolate_from_image_stack_no_skip(pth, skips, TILE_SIZE, model)"
   ],
   "metadata": {
    "collapsed": false,
    "ExecuteTime": {
     "end_time": "2025-06-03T20:37:17.211391Z",
     "start_time": "2025-06-03T20:36:49.861306Z"
    }
   },
   "outputs": [
    {
     "name": "stdout",
     "output_type": "stream",
     "text": [
      "Interpolating int 1:\n",
      "stitching\n"
     ]
    },
    {
     "name": "stderr",
     "output_type": "stream",
     "text": [
      "Interpolating TC_001_0001.tif: 100%|██████████| 1/1 [00:08<00:00,  8.24s/frame]"
     ]
    },
    {
     "name": "stdout",
     "output_type": "stream",
     "text": [
      "Time to generate TC_001_0001_int1.tif: 8.24 seconds\n",
      "loading image 1 from image 2\n"
     ]
    },
    {
     "name": "stderr",
     "output_type": "stream",
     "text": [
      "\n"
     ]
    },
    {
     "name": "stdout",
     "output_type": "stream",
     "text": [
      "stitching\n"
     ]
    },
    {
     "name": "stderr",
     "output_type": "stream",
     "text": [
      "Interpolating TC_001_0003.tif: 100%|██████████| 1/1 [00:04<00:00,  4.12s/frame]"
     ]
    },
    {
     "name": "stdout",
     "output_type": "stream",
     "text": [
      "Time to generate TC_001_0003_int1.tif: 4.12 seconds\n",
      "loading image 1 from image 2\n"
     ]
    },
    {
     "name": "stderr",
     "output_type": "stream",
     "text": [
      "\n"
     ]
    },
    {
     "name": "stdout",
     "output_type": "stream",
     "text": [
      "stitching\n"
     ]
    },
    {
     "name": "stderr",
     "output_type": "stream",
     "text": [
      "Interpolating TC_001_0006.tif: 100%|██████████| 1/1 [00:04<00:00,  4.14s/frame]"
     ]
    },
    {
     "name": "stdout",
     "output_type": "stream",
     "text": [
      "Time to generate TC_001_0006_int1.tif: 4.14 seconds\n",
      "loading image 1 from image 2\n"
     ]
    },
    {
     "name": "stderr",
     "output_type": "stream",
     "text": [
      "\n"
     ]
    },
    {
     "name": "stdout",
     "output_type": "stream",
     "text": [
      "stitching\n"
     ]
    },
    {
     "name": "stderr",
     "output_type": "stream",
     "text": [
      "Interpolating TC_001_0007.tif: 100%|██████████| 1/1 [00:04<00:00,  4.13s/frame]"
     ]
    },
    {
     "name": "stdout",
     "output_type": "stream",
     "text": [
      "Time to generate TC_001_0007_int1.tif: 4.13 seconds\n",
      "loading image 1 from image 2\n"
     ]
    },
    {
     "name": "stderr",
     "output_type": "stream",
     "text": [
      "\n"
     ]
    },
    {
     "name": "stdout",
     "output_type": "stream",
     "text": [
      "stitching\n"
     ]
    },
    {
     "name": "stderr",
     "output_type": "stream",
     "text": [
      "Interpolating TC_001_0009.tif: 100%|██████████| 1/1 [00:04<00:00,  4.14s/frame]"
     ]
    },
    {
     "name": "stdout",
     "output_type": "stream",
     "text": [
      "Time to generate TC_001_0009_int1.tif: 4.14 seconds\n"
     ]
    },
    {
     "name": "stderr",
     "output_type": "stream",
     "text": [
      "\n"
     ]
    }
   ],
   "execution_count": 4
  },
  {
   "metadata": {},
   "cell_type": "code",
   "outputs": [],
   "execution_count": null,
   "source": ""
  }
 ],
 "metadata": {
  "kernelspec": {
   "display_name": "Python 3",
   "language": "python",
   "name": "python3"
  },
  "language_info": {
   "codemirror_mode": {
    "name": "ipython",
    "version": 2
   },
   "file_extension": ".py",
   "mimetype": "text/x-python",
   "name": "python",
   "nbconvert_exporter": "python",
   "pygments_lexer": "ipython2",
   "version": "2.7.6"
  }
 },
 "nbformat": 4,
 "nbformat_minor": 0
}
