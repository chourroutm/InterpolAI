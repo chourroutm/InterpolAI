{
 "cells": [
  {
   "cell_type": "code",
   "metadata": {
    "collapsed": true,
    "ExecuteTime": {
     "end_time": "2025-06-03T20:37:39.725687Z",
     "start_time": "2025-06-03T20:37:39.709428Z"
    }
   },
   "source": [
    "from interpolation_function_skip import *"
   ],
   "outputs": [],
   "execution_count": 6
  },
  {
   "cell_type": "code",
   "source": [
    "print(\"Num GPUs Available: \", len(tf.config.list_physical_devices('GPU')))"
   ],
   "metadata": {
    "collapsed": false,
    "ExecuteTime": {
     "end_time": "2025-06-03T20:37:40.204218Z",
     "start_time": "2025-06-03T20:37:40.179329Z"
    }
   },
   "outputs": [
    {
     "name": "stdout",
     "output_type": "stream",
     "text": [
      "Num GPUs Available:  1\n"
     ]
    }
   ],
   "execution_count": 7
  },
  {
   "cell_type": "code",
   "source": [
    "# model = hub.load(\"https://tfhub.dev/google/film/1\")\n",
    "model_path = \"model\"\n",
    "model = tf.saved_model.load(model_path)"
   ],
   "metadata": {
    "collapsed": false,
    "ExecuteTime": {
     "end_time": "2025-06-03T20:37:48.154448Z",
     "start_time": "2025-06-03T20:37:40.638527Z"
    }
   },
   "outputs": [],
   "execution_count": 8
  },
  {
   "cell_type": "code",
   "source": [
    "skips = [1]\n",
    "# TILE_SIZE = (3000, 3000)\n",
    "TILE_SIZE = (512, 512)\n",
    "pth=r\"\\\\10.99.68.178\\Saurabh\\manuscript_figs\\data\\HE_roi1\\authentic\\test\""
   ],
   "metadata": {
    "collapsed": false,
    "ExecuteTime": {
     "end_time": "2025-06-03T20:37:48.169791Z",
     "start_time": "2025-06-03T20:37:48.154448Z"
    }
   },
   "outputs": [],
   "execution_count": 9
  },
  {
   "cell_type": "code",
   "source": [
    "# INTERPOLATES IMAGES SKIPPING AUTHENTIC IMAGES TO LATER COMPARE USING HARALICK METRICS\n",
    "interpolate_from_image_stack_skip(pth, skips, TILE_SIZE, model)"
   ],
   "metadata": {
    "collapsed": false,
    "ExecuteTime": {
     "end_time": "2025-06-03T20:38:08.678527Z",
     "start_time": "2025-06-03T20:37:48.169791Z"
    }
   },
   "outputs": [
    {
     "name": "stdout",
     "output_type": "stream",
     "text": [
      "Interpolating int 1 with skip 1:\n",
      "stitching\n"
     ]
    },
    {
     "name": "stderr",
     "output_type": "stream",
     "text": [
      "Interpolating TC_001_0001.tif to TC_001_0006.tif: 100%|██████████| 1/1 [00:05<00:00,  5.57s/frame]"
     ]
    },
    {
     "name": "stdout",
     "output_type": "stream",
     "text": [
      "Time to generate TC_001_0001_to_TC_001_0006_int1.tif: 5.57 seconds\n",
      "loading image 1 from image 2\n"
     ]
    },
    {
     "name": "stderr",
     "output_type": "stream",
     "text": [
      "\n"
     ]
    },
    {
     "name": "stdout",
     "output_type": "stream",
     "text": [
      "stitching\n"
     ]
    },
    {
     "name": "stderr",
     "output_type": "stream",
     "text": [
      "Interpolating TC_001_0003.tif to TC_001_0007.tif: 100%|██████████| 1/1 [00:04<00:00,  4.21s/frame]"
     ]
    },
    {
     "name": "stdout",
     "output_type": "stream",
     "text": [
      "Time to generate TC_001_0003_to_TC_001_0007_int1.tif: 4.21 seconds\n",
      "loading image 1 from image 2\n"
     ]
    },
    {
     "name": "stderr",
     "output_type": "stream",
     "text": [
      "\n"
     ]
    },
    {
     "name": "stdout",
     "output_type": "stream",
     "text": [
      "stitching\n"
     ]
    },
    {
     "name": "stderr",
     "output_type": "stream",
     "text": [
      "Interpolating TC_001_0006.tif to TC_001_0009.tif: 100%|██████████| 1/1 [00:04<00:00,  4.18s/frame]"
     ]
    },
    {
     "name": "stdout",
     "output_type": "stream",
     "text": [
      "Time to generate TC_001_0006_to_TC_001_0009_int1.tif: 4.18 seconds\n",
      "loading image 1 from image 2\n"
     ]
    },
    {
     "name": "stderr",
     "output_type": "stream",
     "text": [
      "\n"
     ]
    },
    {
     "name": "stdout",
     "output_type": "stream",
     "text": [
      "stitching\n"
     ]
    },
    {
     "name": "stderr",
     "output_type": "stream",
     "text": [
      "Interpolating TC_001_0007.tif to TC_001_0010.tif: 100%|██████████| 1/1 [00:04<00:00,  4.12s/frame]"
     ]
    },
    {
     "name": "stdout",
     "output_type": "stream",
     "text": [
      "Time to generate TC_001_0007_to_TC_001_0010_int1.tif: 4.12 seconds\n"
     ]
    },
    {
     "name": "stderr",
     "output_type": "stream",
     "text": [
      "\n"
     ]
    }
   ],
   "execution_count": 10
  },
  {
   "cell_type": "code",
   "execution_count": null,
   "outputs": [],
   "source": [
    "# GOES THROUGH ALL INTERPOLATED FOLDERS AND RUNS ALL METRICS\n",
    "process_interpolated_images_for_haralick_features(pth, skips)"
   ],
   "metadata": {
    "collapsed": false
   }
  }
 ],
 "metadata": {
  "kernelspec": {
   "display_name": "Python 3",
   "language": "python",
   "name": "python3"
  },
  "language_info": {
   "codemirror_mode": {
    "name": "ipython",
    "version": 2
   },
   "file_extension": ".py",
   "mimetype": "text/x-python",
   "name": "python",
   "nbconvert_exporter": "python",
   "pygments_lexer": "ipython2",
   "version": "2.7.6"
  }
 },
 "nbformat": 4,
 "nbformat_minor": 0
}
